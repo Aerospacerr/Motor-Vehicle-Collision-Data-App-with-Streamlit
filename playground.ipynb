{
 "cells": [
  {
   "cell_type": "markdown",
   "metadata": {},
   "source": [
    "### Playground\n",
    "\n",
    "Jupyter Notebook to test out new features or data filters more quickly than in the streamlit app itself"
   ]
  },
  {
   "cell_type": "code",
   "execution_count": null,
   "metadata": {},
   "outputs": [],
   "source": [
    "import numpy as np\n",
    "import pandas as pd"
   ]
  },
  {
   "cell_type": "code",
   "execution_count": null,
   "metadata": {},
   "outputs": [],
   "source": [
    "def load_data():\n",
    "    data = pd.read_parquet('crashes.parquet', engine='pyarrow')\n",
    "    # drop rows with no lat/long values:\n",
    "    data.dropna(subset=['latitude', 'longitude'], inplace=True)\n",
    "    # drop rows outside bounding box of NYC:\n",
    "    data = data[(data['latitude'] > 40.0) & (data['latitude'] < 42.0) &\n",
    "                (data['longitude'] > -76.0) & (data['longitude'] < -70.0)]\n",
    "    return data"
   ]
  },
  {
   "cell_type": "code",
   "execution_count": null,
   "metadata": {},
   "outputs": [],
   "source": [
    "data = load_data()"
   ]
  },
  {
   "cell_type": "code",
   "execution_count": null,
   "metadata": {},
   "outputs": [],
   "source": [
    "data.info()"
   ]
  }
 ],
 "metadata": {
  "interpreter": {
   "hash": "e894a92d257b2404baa42fd62ea3b467fd2093c97b07eea45f316121234df18d"
  },
  "kernelspec": {
   "display_name": "Python 3.8.8 64-bit (system)",
   "language": "python",
   "name": "python3"
  },
  "language_info": {
   "codemirror_mode": {
    "name": "ipython",
    "version": 3
   },
   "file_extension": ".py",
   "mimetype": "text/x-python",
   "name": "python",
   "nbconvert_exporter": "python",
   "pygments_lexer": "ipython3",
   "version": "3.8.8"
  },
  "orig_nbformat": 4
 },
 "nbformat": 4,
 "nbformat_minor": 2
}
