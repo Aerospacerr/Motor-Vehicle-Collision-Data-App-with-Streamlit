{
  "cells": [
    {
      "cell_type": "code",
      "execution_count": null,
      "metadata": {
        "colab": {
          "base_uri": "https://localhost:8080/"
        },
        "id": "kvIUkiqvccXc",
        "outputId": "39b99126-6a1d-4080-9d8b-4216ab028e0f"
      },
      "outputs": [],
      "source": [
        "from google.colab import drive\n",
        "drive.mount('/content/drive')"
      ]
    },
    {
      "cell_type": "code",
      "execution_count": null,
      "metadata": {
        "id": "Mkeu6iR1uFFO"
      },
      "outputs": [],
      "source": [
        "import numpy as np\n",
        "import pandas as pd"
      ]
    },
    {
      "cell_type": "code",
      "execution_count": null,
      "metadata": {
        "id": "ctJiQzAWuFDc"
      },
      "outputs": [],
      "source": [
        "# df = pd.read_csv('Motor_Vehicle_Collisions_-_Crashes.csv', low_memory=False)"
      ]
    },
    {
      "cell_type": "code",
      "execution_count": null,
      "metadata": {
        "id": "a_Tfxnhe6ArS"
      },
      "outputs": [],
      "source": [
        "df = pd.read_csv('/content/drive/MyDrive/Case_Task/Motor_Vehicle_Collision_NYC/Motor_Vehicle_Collisions_-_Crashes.csv', low_memory=False)"
      ]
    },
    {
      "cell_type": "code",
      "execution_count": null,
      "metadata": {
        "id": "dOzEmc2uuE92"
      },
      "outputs": [],
      "source": [
        "df.drop(columns=['LOCATION','CROSS STREET NAME','OFF STREET NAME'], inplace=True)\n",
        "\n",
        "df = df.loc[:, ~df.columns.str.startswith('VEHICLE TYPE')]\n",
        "# df = df.loc[:, ~df.columns.str.startswith('CONTRIBUTING FACTOR')]"
      ]
    },
    {
      "cell_type": "code",
      "execution_count": null,
      "metadata": {
        "id": "a5B68p3HuE6h"
      },
      "outputs": [],
      "source": [
        "df['timestamp'] = pd.to_datetime(df['CRASH DATE'] + ' ' + df['CRASH TIME'], format='%m/%d/%Y %H:%M')"
      ]
    },
    {
      "cell_type": "code",
      "execution_count": null,
      "metadata": {},
      "outputs": [],
      "source": [
        "# we don't need these columns anymore\n",
        "df.drop(columns=['CRASH DATE','CRASH TIME'], inplace=True)"
      ]
    },
    {
      "cell_type": "code",
      "execution_count": null,
      "metadata": {
        "id": "hvuzzJVzuE30"
      },
      "outputs": [],
      "source": [
        "integer_columns = df.columns.str.contains('NUMBER OF')"
      ]
    },
    {
      "cell_type": "code",
      "execution_count": null,
      "metadata": {},
      "outputs": [],
      "source": [
        "# convert numbers to int8 for lower memory usage\n",
        "df.loc[:, integer_columns] = df.loc[:, integer_columns].astype(pd.Int8Dtype())"
      ]
    },
    {
      "cell_type": "code",
      "execution_count": null,
      "metadata": {},
      "outputs": [],
      "source": [
        "contributing_factors = df.columns.str.contains('CONTRIBUTING FACTOR')"
      ]
    },
    {
      "cell_type": "code",
      "execution_count": null,
      "metadata": {},
      "outputs": [],
      "source": [
        "# convert to categorical datatype\n",
        "df.loc[:, contributing_factors] = df.loc[:, contributing_factors].astype(pd.CategoricalDtype())"
      ]
    },
    {
      "cell_type": "code",
      "execution_count": null,
      "metadata": {
        "id": "bH-aY8ituExa"
      },
      "outputs": [],
      "source": [
        "# convert names lower and replace blanks\n",
        "df = df.convert_dtypes()\n",
        "df.columns= df.columns.str.lower()\n",
        "df.columns = df.columns.str.replace(' ','_')"
      ]
    },
    {
      "cell_type": "code",
      "execution_count": null,
      "metadata": {},
      "outputs": [],
      "source": [
        "# convert lat, lon to float32 for lower memory usage\n",
        "df = df.astype({'latitude': pd.Float32Dtype(), 'longitude': pd.Float32Dtype()})"
      ]
    },
    {
      "cell_type": "code",
      "execution_count": null,
      "metadata": {
        "colab": {
          "base_uri": "https://localhost:8080/",
          "height": 444
        },
        "id": "FjHEUvFd6vA-",
        "outputId": "dffd8cc3-5ccc-491f-d51a-722f2730c99b"
      },
      "outputs": [],
      "source": [
        "df.head()"
      ]
    },
    {
      "cell_type": "code",
      "execution_count": null,
      "metadata": {
        "colab": {
          "base_uri": "https://localhost:8080/"
        },
        "id": "XfLUSz15uEzW",
        "outputId": "7d80c7ff-2cc5-471f-ad4d-5e95e5bd8e2a"
      },
      "outputs": [],
      "source": [
        "df.info()"
      ]
    },
    {
      "cell_type": "code",
      "execution_count": null,
      "metadata": {
        "colab": {
          "base_uri": "https://localhost:8080/",
          "height": 394
        },
        "id": "L5J9TxK_uEuc",
        "outputId": "2cb57ff6-1e20-461b-ad20-fca6db063592"
      },
      "outputs": [],
      "source": [
        "df.describe().transpose()"
      ]
    },
    {
      "cell_type": "code",
      "execution_count": null,
      "metadata": {
        "colab": {
          "base_uri": "https://localhost:8080/"
        },
        "id": "Ngi4689RuErM",
        "outputId": "c9c2b316-b64d-4aa2-8095-2c6b74aefbb1"
      },
      "outputs": [],
      "source": [
        "df.dtypes"
      ]
    },
    {
      "cell_type": "code",
      "execution_count": null,
      "metadata": {
        "colab": {
          "base_uri": "https://localhost:8080/"
        },
        "id": "mvCExYmM6U_4",
        "outputId": "a25d22d3-9426-401f-80c0-a5d9fabcebf4"
      },
      "outputs": [],
      "source": [
        "df.columns"
      ]
    },
    {
      "cell_type": "code",
      "execution_count": null,
      "metadata": {
        "id": "UV6bQGqZuEou"
      },
      "outputs": [],
      "source": [
        "# write to parquet file\n",
        "df.to_parquet('crashes.parquet', engine='pyarrow', compression='brotli', index=True)"
      ]
    },
    {
      "cell_type": "markdown",
      "metadata": {},
      "source": [
        "### Test reading"
      ]
    },
    {
      "cell_type": "code",
      "execution_count": null,
      "metadata": {},
      "outputs": [],
      "source": [
        "data = pd.read_parquet('crashes.parquet', engine='pyarrow')"
      ]
    },
    {
      "cell_type": "code",
      "execution_count": null,
      "metadata": {},
      "outputs": [],
      "source": [
        "data.info()"
      ]
    }
  ],
  "metadata": {
    "colab": {
      "authorship_tag": "ABX9TyP/YWQdgVCxa7Yz9cJNZ7m7",
      "collapsed_sections": [],
      "name": "preprocessing",
      "provenance": []
    },
    "kernelspec": {
      "display_name": "Python 3",
      "name": "python3"
    },
    "language_info": {
      "codemirror_mode": {
        "name": "ipython",
        "version": 3
      },
      "file_extension": ".py",
      "mimetype": "text/x-python",
      "name": "python",
      "nbconvert_exporter": "python",
      "pygments_lexer": "ipython3",
      "version": "3.8.8"
    }
  },
  "nbformat": 4,
  "nbformat_minor": 0
}
